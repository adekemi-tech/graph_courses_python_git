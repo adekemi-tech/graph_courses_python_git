{
  "cells": [
    {
      "cell_type": "markdown",
      "metadata": {},
      "source": [
        "title: \"India TB Pathways Analysis\"\n"
      ],
      "id": "4d4eee8e"
    },
    {
      "cell_type": "code",
      "metadata": {},
      "source": [
        "pd.read_csv(\"C:\\Users\\Adekemi Asaolu\\Downloads\\week_04_workshop_instructions.pdf\")"
      ],
      "id": "50dbf8c3",
      "execution_count": null,
      "outputs": []
    },
    {
      "cell_type": "code",
      "metadata": {},
      "source": [
        "it.show(\"C:\\Users\\Adekemi Asaolu\\Downloads\\week_04_workshop_instructions.pdf\")"
      ],
      "id": "8ce7679d",
      "execution_count": null,
      "outputs": []
    }
  ],
  "metadata": {
    "kernelspec": {
      "name": "python3",
      "language": "python",
      "display_name": "Python 3 (ipykernel)",
      "path": "c:\\Users\\Adekemi Asaolu\\OneDrive\\Desktop\\graph_courses_python\\.venv\\share\\jupyter\\kernels\\python3"
    }
  },
  "nbformat": 4,
  "nbformat_minor": 5
}